{
 "cells": [
  {
   "cell_type": "markdown",
   "metadata": {},
   "source": [
    "# Performance comparison for various values of N\n",
    "\n",
    "This notebook reproduces Figs. 1, S2 and Tables 1, S1, S2, S3. "
   ]
  },
  {
   "cell_type": "code",
   "execution_count": 1,
   "metadata": {},
   "outputs": [],
   "source": [
    "import os\n",
    "os.chdir(\"../\")"
   ]
  },
  {
   "cell_type": "code",
   "execution_count": 2,
   "metadata": {},
   "outputs": [],
   "source": [
    "import pandas as pd\n",
    "import numpy as np\n",
    "import matplotlib\n",
    "import matplotlib.pyplot as plt\n",
    "import seaborn as sns\n",
    "import glob\n",
    "import json\n",
    "from src import utils\n",
    "from src.utils import get_fig_dim\n",
    "from IPython.display import clear_output\n",
    "import matplotlib.pyplot as plt\n",
    "\n",
    "sns.set_theme(context='paper', style='ticks', font_scale=1)"
   ]
  },
  {
   "cell_type": "markdown",
   "metadata": {},
   "source": [
    "Set the values of sensitivity s<sub>e</sub> and specificity s<sub>p</sub>."
   ]
  },
  {
   "cell_type": "code",
   "execution_count": 3,
   "metadata": {},
   "outputs": [],
   "source": [
    "se = 0.99\n",
    "sp = 0.99"
   ]
  },
  {
   "cell_type": "code",
   "execution_count": 4,
   "metadata": {},
   "outputs": [],
   "source": [
    "name=\"score_vs_N\"\n",
    "width_pt = 469\n",
    "palette = sns.color_palette('husl', 6)\n",
    "type_dict = {\n",
    "    'N' : int, \n",
    "    'false_negatives' : int,\n",
    "    'false_positives' : int,\n",
    "    'k' : float,\n",
    "    'lambda_1' : float,\n",
    "    'lambda_2' : float,\n",
    "    'method' : str,\n",
    "    'num_of_infected' : int,\n",
    "    'num_of_tests' : int,\n",
    "    'avg_group_size' : float,\n",
    "    'r' : float,\n",
    "    'score' : float,\n",
    "    'se' : float,\n",
    "    'sp' : float,\n",
    "    'd' : float,\n",
    "    'seed' : int\n",
    "}"
   ]
  },
  {
   "cell_type": "code",
   "execution_count": 5,
   "metadata": {
    "tags": []
   },
   "outputs": [
    {
     "name": "stdout",
     "output_type": "stream",
     "text": [
      "Reading file 8/8\n"
     ]
    }
   ],
   "source": [
    "files = glob.glob(\"./outputs/{name}_*_se_{se}_sp_{sp}_*.json\".format(name=name, se=se, sp=sp))\n",
    "\n",
    "dicts = []\n",
    "for fl_id, fl in enumerate(files):\n",
    "    clear_output(wait=True)\n",
    "    print('Reading file ' + str(fl_id+1)+'/'+str(len(files)))\n",
    "    with open(fl,\"r\") as f:\n",
    "        js = json.load(f)\n",
    "        sizes = []\n",
    "        for group_id in js['groups']:\n",
    "            sizes.append(int(js['groups'][group_id]))\n",
    "\n",
    "        avg_group_size = np.mean(sizes)\n",
    "        \n",
    "        for seed in js['seeds']:\n",
    "            seed_js = js.copy()\n",
    "            seed_js.pop('seeds', None)\n",
    "            seed_js.pop('groups', None)    \n",
    "            seed_js = seed_js | js['seeds'][seed]\n",
    "            seed_js['seed']=seed\n",
    "            seed_js['avg_group_size'] = avg_group_size\n",
    "\n",
    "            dicts.append(seed_js)\n",
    "\n",
    "input_df = pd.DataFrame(dicts)"
   ]
  },
  {
   "cell_type": "code",
   "execution_count": 6,
   "metadata": {},
   "outputs": [],
   "source": [
    "total_df = input_df.astype(type_dict) # Fix types\n",
    "total_df['tests_per_contact'] = total_df['num_of_tests']/total_df['N']\n",
    "total_df['fns_per_contact'] = total_df['false_negatives']/total_df['N']\n",
    "total_df['fps_per_contact'] = total_df['false_positives']/total_df['N']"
   ]
  },
  {
   "cell_type": "code",
   "execution_count": 7,
   "metadata": {},
   "outputs": [],
   "source": [
    "results = {}\n",
    "temp = total_df[['method', 'N', 'tests_per_contact', 'fns_per_contact', 'fps_per_contact']]\n",
    "binomial = temp[temp['method']=='binomial'].groupby(['N'])\n",
    "negbin = temp[temp['method']=='negbin'].groupby(['N'])\n",
    "results['binomial'], results['negbin'] = {}, {}\n",
    "results['binomial']['avg'], results['binomial']['std'] = binomial.mean().reset_index(), binomial.std().reset_index()\n",
    "results['negbin']['avg'], results['negbin']['std'] = negbin.mean().reset_index(), negbin.std().reset_index()"
   ]
  },
  {
   "cell_type": "markdown",
   "metadata": {},
   "source": [
    "For the values of the table containing the average number of tests, false negatives and false positives per contact, set the first field to 'binomial' for classic Dorfman's method (Dorf-Cl) or 'negbin' for our method (Dorf-OD). Set the second field to 'avg' for the average values or 'std' for the standard deviation."
   ]
  },
  {
   "cell_type": "code",
   "execution_count": 8,
   "metadata": {},
   "outputs": [
    {
     "data": {
      "text/html": [
       "<div>\n",
       "<style scoped>\n",
       "    .dataframe tbody tr th:only-of-type {\n",
       "        vertical-align: middle;\n",
       "    }\n",
       "\n",
       "    .dataframe tbody tr th {\n",
       "        vertical-align: top;\n",
       "    }\n",
       "\n",
       "    .dataframe thead th {\n",
       "        text-align: right;\n",
       "    }\n",
       "</style>\n",
       "<table border=\"1\" class=\"dataframe\">\n",
       "  <thead>\n",
       "    <tr style=\"text-align: right;\">\n",
       "      <th></th>\n",
       "      <th>N</th>\n",
       "      <th>tests_per_contact</th>\n",
       "      <th>fns_per_contact</th>\n",
       "      <th>fps_per_contact</th>\n",
       "    </tr>\n",
       "  </thead>\n",
       "  <tbody>\n",
       "    <tr>\n",
       "      <th>0</th>\n",
       "      <td>20</td>\n",
       "      <td>0.281900</td>\n",
       "      <td>0.003560</td>\n",
       "      <td>0.001760</td>\n",
       "    </tr>\n",
       "    <tr>\n",
       "      <th>1</th>\n",
       "      <td>50</td>\n",
       "      <td>0.241802</td>\n",
       "      <td>0.002800</td>\n",
       "      <td>0.001448</td>\n",
       "    </tr>\n",
       "    <tr>\n",
       "      <th>2</th>\n",
       "      <td>100</td>\n",
       "      <td>0.199127</td>\n",
       "      <td>0.001900</td>\n",
       "      <td>0.001176</td>\n",
       "    </tr>\n",
       "    <tr>\n",
       "      <th>3</th>\n",
       "      <td>200</td>\n",
       "      <td>0.159320</td>\n",
       "      <td>0.001236</td>\n",
       "      <td>0.000990</td>\n",
       "    </tr>\n",
       "  </tbody>\n",
       "</table>\n",
       "</div>"
      ],
      "text/plain": [
       "     N  tests_per_contact  fns_per_contact  fps_per_contact\n",
       "0   20           0.281900         0.003560         0.001760\n",
       "1   50           0.241802         0.002800         0.001448\n",
       "2  100           0.199127         0.001900         0.001176\n",
       "3  200           0.159320         0.001236         0.000990"
      ]
     },
     "execution_count": 8,
     "metadata": {},
     "output_type": "execute_result"
    }
   ],
   "source": [
    "results['negbin']['avg']"
   ]
  },
  {
   "cell_type": "code",
   "execution_count": 9,
   "metadata": {},
   "outputs": [],
   "source": [
    "size_df = total_df[['method', 'N', 'avg_group_size']]\n",
    "size_df = size_df.rename(columns={'avg_group_size' : 'Average pool size'})"
   ]
  },
  {
   "cell_type": "code",
   "execution_count": 10,
   "metadata": {},
   "outputs": [],
   "source": [
    "perc_df = total_df.pivot(index=['lambda_1', 'lambda_2', 'se', 'sp', 'r', 'k', 'seed', 'N'], columns='method', values='num_of_tests').reset_index()\n",
    "perc_df['Perc'] = 100*(perc_df['binomial'] - perc_df['negbin'])/perc_df['binomial']\n",
    "\n",
    "df_list = []\n",
    "means = []\n",
    "for N in [20, 50, 100, 200]:\n",
    "    temp_df = perc_df[(perc_df['N']==N)].sort_values(by=['Perc'])\n",
    "    means.append(temp_df['Perc'].mean())\n",
    "    num_of_rows_to_skip = int(0.05 * temp_df.shape[0])\n",
    "    temp_df = temp_df.iloc[num_of_rows_to_skip:-num_of_rows_to_skip]\n",
    "    \n",
    "    df_list.append(temp_df)\n",
    "\n",
    "perc_df = pd.concat(df_list)"
   ]
  },
  {
   "cell_type": "markdown",
   "metadata": {},
   "source": [
    "Depending on the figure, comment/uncomment the lines that determine the subplot letter identifier and the file name."
   ]
  },
  {
   "cell_type": "code",
   "execution_count": 11,
   "metadata": {},
   "outputs": [
    {
     "data": {
      "image/png": "[encoded data removed]",
      "text/plain": [
       "<Figure size 560.697x173.265 with 2 Axes>"
      ]
     },
     "metadata": {},
     "output_type": "display_data"
    }
   ],
   "source": [
    "utils.latexify(font_serif='Times New Roman', font_size=10, usetex=False)\n",
    "\n",
    "fig_height, fig_aspect = get_fig_dim(width_pt, fraction=0.6)\n",
    "fig, [ax1, ax2] = plt.subplots(nrows=1, ncols=2, figsize=(2*fig_height*fig_aspect,fig_height))\n",
    "\n",
    "# Subplot 1\n",
    "sns.barplot(data=size_df, x=\"N\", y=\"Average pool size\", hue=\"method\", ci=None, \n",
    "            palette=[palette[0]]+[palette[2]], hue_order=['binomial', 'negbin'], ax=ax1)\n",
    "sns.despine(ax=ax1)\n",
    "\n",
    "# ax1.text(x=0.01, y=1, s=r'A', size=15, transform = ax1.transAxes, horizontalalignment='center', verticalalignment='bottom', weight='bold')\n",
    "# ax1.text(x=0.01, y=1, s=r'C', size=15, transform = ax1.transAxes, horizontalalignment='center', verticalalignment='bottom', weight='bold')\n",
    "ax1.text(x=0.01, y=1, s=r'E', size=15, transform = ax1.transAxes, horizontalalignment='center', verticalalignment='bottom', weight='bold')\n",
    "\n",
    "ax1.legend(labels=['Dorf-Cl', 'Dorf-OD'], loc='upper left')\n",
    "ax1.set_xlabel(\"Number of contacts\")\n",
    "ax1.set_ylim([0,35])\n",
    "\n",
    "\n",
    "# Subplot 2\n",
    "labels = perc_df['N'].unique()\n",
    "data_sets = [perc_df[perc_df['N']==N]['Perc'].to_numpy() for N in labels]\n",
    "\n",
    "hist_range = (np.min(data_sets), np.max(data_sets))\n",
    "number_of_bins = 30\n",
    "binned_data_sets=[]\n",
    "for d in data_sets:\n",
    "    hist = np.histogram(d, range=hist_range, bins=number_of_bins)[0]\n",
    "    hist_max = np.max(hist)\n",
    "    binned_data_sets.append(hist/hist_max)\n",
    "\n",
    "binned_data_sets = np.array(binned_data_sets)\n",
    "\n",
    "x_locations = np.linspace(0, len(binned_data_sets)+1, len(binned_data_sets))\n",
    "\n",
    "i=0\n",
    "for x_loc, binned_data in zip(x_locations, binned_data_sets):\n",
    "    non_zero = np.nonzero(binned_data)[0]\n",
    "    effective_range_ids = non_zero[0], non_zero[-1]\n",
    "    effective_bins = non_zero[-1] - non_zero[0] + 1\n",
    "    effective_range = hist_range[0]+non_zero[0]*(hist_range[1]-hist_range[0])/number_of_bins, \\\n",
    "                        hist_range[0]+non_zero[-1]*(hist_range[1]-hist_range[0])/number_of_bins\n",
    "\n",
    "    bin_edges = np.linspace(effective_range[0], effective_range[1], effective_bins+1)\n",
    "    centers = 0.5 * (bin_edges + np.roll(bin_edges, 1))[1:]\n",
    "    \n",
    "    heights = np.diff(bin_edges)\n",
    "    lefts = x_loc - 0.5 * binned_data[effective_range_ids[0]:effective_range_ids[1]+1]\n",
    "    rights = x_loc + 0.5 * binned_data[effective_range_ids[0]:effective_range_ids[1]+1]\n",
    "    \n",
    "    ax2.barh(centers, binned_data[effective_range_ids[0]:effective_range_ids[1]+1], height=heights, left=lefts, color=palette[i], edgecolor='#595959')\n",
    "    \n",
    "    ax2.hlines(y=means[i], xmin=min(lefts), xmax=max(rights), linestyles='dashed', colors=palette[5])\n",
    "\n",
    "    i += 1\n",
    "\n",
    "sns.despine(ax=ax2)\n",
    "\n",
    "# ax2.text(x=0.01, y=1, s=r'B', size=15, transform = ax2.transAxes, horizontalalignment='center', verticalalignment='bottom', weight='bold')\n",
    "# ax2.text(x=0.01, y=1, s=r'D', size=15, transform = ax2.transAxes, horizontalalignment='center', verticalalignment='bottom', weight='bold')\n",
    "ax2.text(x=0.01, y=1, s=r'F', size=15, transform = ax2.transAxes, horizontalalignment='center', verticalalignment='bottom', weight='bold')\n",
    "\n",
    "ax2.set_xticks(x_locations)\n",
    "ax2.set_xticklabels(labels)\n",
    "\n",
    "ax2.set_ylabel(r'Percentage of tests saved', loc='center')\n",
    "ax2.set_xlabel(\"Number of contacts\")\n",
    "ax2.get_yaxis().set_major_formatter(matplotlib.ticker.PercentFormatter())\n",
    "ax2.set_xlim([-1, 7])\n",
    "\n",
    "fig.tight_layout()\n",
    "# fig.savefig('figures/fig1.tif', dpi=300)\n",
    "# fig.savefig('figures/figs2a.tif', dpi=300)\n",
    "# fig.savefig('figures/figs2b.tif', dpi=300)\n",
    "fig.savefig('figures/figs2c.tif', dpi=300)"
   ]
  },
  {
   "cell_type": "code",
   "execution_count": null,
   "metadata": {},
   "outputs": [],
   "source": []
  }
 ],
 "metadata": {
  "interpreter": {
   "hash": "e312f55c3c97e43ef328a86651ae8cf61ffd8a19c7888f1a2843b6f17cf5ecdd"
  },
  "kernelspec": {
   "display_name": "Python 3.9.1 64-bit ('env')",
   "name": "python3"
  },
  "language_info": {
   "codemirror_mode": {
    "name": "ipython",
    "version": 3
   },
   "file_extension": ".py",
   "mimetype": "text/x-python",
   "name": "python",
   "nbconvert_exporter": "python",
   "pygments_lexer": "ipython3",
   "version": "3.9.1"
  },
  "metadata": {
   "interpreter": {
    "hash": "c425b3d18afb7ef01beae38734bbc4c3f66a0926b3e7f0a803887fb6dc8ff96a"
   }
  },
  "orig_nbformat": 2
 },
 "nbformat": 4,
 "nbformat_minor": 2
}

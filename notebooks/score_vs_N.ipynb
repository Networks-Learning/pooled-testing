{
 "cells": [
  {
   "cell_type": "markdown",
   "metadata": {},
   "source": [
    "# Score vs N\n",
    "\n",
    "In this notebook we plot the score, # of tests, # of FPs and # of FNs for several values of N. "
   ]
  },
  {
   "cell_type": "code",
   "execution_count": 1,
   "metadata": {},
   "outputs": [],
   "source": [
    "import os\n",
    "os.chdir(\"../\")"
   ]
  },
  {
   "cell_type": "code",
   "execution_count": 2,
   "metadata": {},
   "outputs": [],
   "source": [
    "import pandas as pd\n",
    "import numpy as np\n",
    "import matplotlib\n",
    "import matplotlib.pyplot as plt\n",
    "import seaborn as sns\n",
    "import glob\n",
    "import json\n",
    "from src import utils\n",
    "from src.utils import get_fig_dim\n",
    "from IPython.display import clear_output\n",
    "import matplotlib.pyplot as plt\n",
    "\n",
    "sns.set_theme(context='paper', style='ticks', font_scale=1)"
   ]
  },
  {
   "cell_type": "code",
   "execution_count": 3,
   "metadata": {},
   "outputs": [],
   "source": [
    "name=\"score_vs_N\"\n",
    "width_pt = 469\n",
    "palette = sns.color_palette('husl', 5)\n",
    "type_dict = {\n",
    "    'N' : int, \n",
    "    'false_negatives' : int,\n",
    "    'false_positives' : int,\n",
    "    'k' : float,\n",
    "    'lambda_1' : float,\n",
    "    'lambda_2' : float,\n",
    "    'method' : str,\n",
    "    'num_of_infected' : int,\n",
    "    'num_of_tests' : int,\n",
    "    'avg_group_size' : float,\n",
    "    'r' : float,\n",
    "    'score' : float,\n",
    "    'se' : float,\n",
    "    'sp' : float,\n",
    "    'seed' : int\n",
    "}"
   ]
  },
  {
   "cell_type": "code",
   "execution_count": 4,
   "metadata": {
    "tags": []
   },
   "outputs": [
    {
     "name": "stdout",
     "output_type": "stream",
     "text": [
      "Reading file 12/12\n"
     ]
    }
   ],
   "source": [
    "files = glob.glob(\"./outputs/{name}_*.json\".format(name=name))\n",
    "\n",
    "dicts = []\n",
    "for fl_id, fl in enumerate(files):\n",
    "    clear_output(wait=True)\n",
    "    print('Reading file ' + str(fl_id+1)+'/'+str(len(files)))\n",
    "    with open(fl,\"r\") as f:\n",
    "        js = json.load(f)\n",
    "        sizes = []\n",
    "        for group_id in js['groups']:\n",
    "            sizes.append(int(js['groups'][group_id]))\n",
    "\n",
    "        avg_group_size = np.mean(sizes)\n",
    "        \n",
    "        for seed in js['seeds']:\n",
    "            seed_js = js.copy()\n",
    "            seed_js.pop('seeds', None)\n",
    "            seed_js.pop('groups', None)    \n",
    "            seed_js = seed_js | js['seeds'][seed]\n",
    "            seed_js['seed']=seed\n",
    "            seed_js['avg_group_size'] = avg_group_size\n",
    "\n",
    "            dicts.append(seed_js)\n",
    "\n",
    "input_df = pd.DataFrame(dicts)"
   ]
  },
  {
   "cell_type": "code",
   "execution_count": 25,
   "metadata": {},
   "outputs": [],
   "source": [
    "total_df = input_df.astype(type_dict) # Fix types\n",
    "total_df = total_df.rename(columns={'N': 'Number of contacts', 'method': 'Method', 'avg_group_size' : 'Average pool size', 'num_of_tests': 'Number of tests'}) # Rename columns\n",
    "total_df = total_df.replace({'binomial': 'Dorfman' , 'negbin': 'Algorithm 1'}) # Rename methods"
   ]
  },
  {
   "cell_type": "code",
   "execution_count": 26,
   "metadata": {},
   "outputs": [
    {
     "name": "stderr",
     "output_type": "stream",
     "text": [
      "<ipython-input-26-d6baf88279f7>:2: SettingWithCopyWarning: \n",
      "A value is trying to be set on a copy of a slice from a DataFrame.\n",
      "Try using .loc[row_indexer,col_indexer] = value instead\n",
      "\n",
      "See the caveats in the documentation: https://pandas.pydata.org/pandas-docs/stable/user_guide/indexing.html#returning-a-view-versus-a-copy\n",
      "  tests_df['Number of tests per contact'] = tests_df['Number of tests']/tests_df['Number of contacts']\n"
     ]
    }
   ],
   "source": [
    "tests_df=total_df[total_df['Number of contacts']>=20]\n",
    "tests_df['Number of tests per contact'] = tests_df['Number of tests']/tests_df['Number of contacts']"
   ]
  },
  {
   "cell_type": "code",
   "execution_count": 16,
   "metadata": {},
   "outputs": [
    {
     "data": {
      "image/png": "[encoded data removed]",
      "text/plain": [
       "<Figure size 280.349x173.265 with 1 Axes>"
      ]
     },
     "metadata": {},
     "output_type": "display_data"
    }
   ],
   "source": [
    "utils.latexify(font_size=10)\n",
    "\n",
    "fig_height, fig_aspect = get_fig_dim(width_pt, fraction=0.6)\n",
    "fig, ax = plt.subplots(figsize=(fig_height*fig_aspect,fig_height))\n",
    "\n",
    "sns.pointplot(data=tests_df, x=\"Number of contacts\", y=\"Number of tests per contact\", hue=\"Method\", palette=[palette[0]]+[palette[2]],\n",
    "            ci='sd', join=False, dodge=.15, hue_order=['Dorfman', 'Algorithm 1'], capsize=.1,  ax=ax)\n",
    "sns.despine()\n",
    "\n",
    "ax.legend(title=None)\n",
    "# ax.set_yscale('log')\n",
    "# ax.set_yticks([1, 10, 20, 50, 100, 200])\n",
    "# ax.get_yaxis().set_major_formatter(matplotlib.ticker.ScalarFormatter())\n",
    "ax.tick_params(which='minor', left=False)\n",
    "\n",
    "fig.tight_layout()\n",
    "fig.savefig('figures/{name}_tests_per_contact.pdf'.format(name=name))"
   ]
  },
  {
   "cell_type": "code",
   "execution_count": 17,
   "metadata": {},
   "outputs": [
    {
     "data": {
      "image/png": "[encoded data removed]",
      "text/plain": [
       "<Figure size 280.349x173.265 with 1 Axes>"
      ]
     },
     "metadata": {},
     "output_type": "display_data"
    }
   ],
   "source": [
    "utils.latexify(font_size=10)\n",
    "\n",
    "fig_height, fig_aspect = get_fig_dim(width_pt, fraction=0.6)\n",
    "fig, ax = plt.subplots(figsize=(fig_height*fig_aspect,fig_height))\n",
    "\n",
    "sns.barplot(data=tests_df, x=\"Number of contacts\", y=\"Average pool size\", hue=\"Method\", ci=None, \n",
    "            palette=[palette[0]]+[palette[2]], hue_order=['Dorfman', 'Algorithm 1'])\n",
    "sns.despine()\n",
    "\n",
    "ax.legend(loc='upper left')\n",
    "ax.set_ylim([0,30])\n",
    "\n",
    "fig.tight_layout()\n",
    "fig.savefig('figures/{name}_pool_size.pdf'.format(name=name))"
   ]
  },
  {
   "cell_type": "code",
   "execution_count": 46,
   "metadata": {},
   "outputs": [],
   "source": [
    "perc_df = total_df.pivot(index=['lambda_1', 'lambda_2', 'se', 'sp', 'r', 'k', 'seed', 'Number of contacts'], columns='Method', values='Number of tests').reset_index()\n",
    "perc_df['Perc'] = 100*(perc_df['Dorfman'] - perc_df['Algorithm 1'])/perc_df['Dorfman']\n",
    "perc_df=perc_df[perc_df['Number of contacts']>=20]\n",
    "perc_df\n",
    "df_list = []\n",
    "for N in [20, 50, 100, 200, 500]:\n",
    "    temp_df = perc_df[(perc_df['Number of contacts']==N)].sort_values(by=['Perc'])\n",
    "    num_of_rows_to_skip = int(0.025 * temp_df.shape[0])\n",
    "    \n",
    "    temp_df = temp_df.iloc[num_of_rows_to_skip:-num_of_rows_to_skip]\n",
    "    df_list.append(temp_df)\n",
    "    # temp_df = perc_df[(perc_df['Number of contacts']==N)]\n",
    "    # print(temp_df.shape[0])\n",
    "    # temp_df = perc_df[((perc_df['Number of contacts']==N) & (perc_df['Perc']<high) & (perc_df['Perc']>low))]\n",
    "    # print(temp_df.shape[0])\n",
    "    # df_list.append(perc_df[((perc_df['Number of contacts']==N) & (perc_df['Perc']<high) & (perc_df['Perc']>low))])\n",
    "\n",
    "perc_df = pd.concat(df_list)"
   ]
  },
  {
   "cell_type": "code",
   "execution_count": 65,
   "metadata": {},
   "outputs": [
    {
     "data": {
      "image/png": "[encoded data removed]",
      "text/plain": [
       "<Figure size 280.349x173.265 with 1 Axes>"
      ]
     },
     "metadata": {},
     "output_type": "display_data"
    }
   ],
   "source": [
    "utils.latexify(font_size=10)\n",
    "\n",
    "fig_height, fig_aspect = get_fig_dim(width_pt, fraction=0.6)\n",
    "fig, ax = plt.subplots(figsize=(fig_height*fig_aspect,fig_height))\n",
    "\n",
    "# Adapted from https://matplotlib.org/stable/gallery/statistics/multiple_histograms_side_by_side.html\n",
    "\n",
    "labels = perc_df['Number of contacts'].unique()\n",
    "# data_sets = [tests_df[(tests_df['Number of contacts']==N) & (tests_df['Perc'] < tests_df['Perc'].quantile(.95)) & (tests_df['Perc'] > tests_df['Perc'].quantile(.05))]['Perc'].to_numpy() for N in labels]\n",
    "data_sets = [perc_df[perc_df['Number of contacts']==N]['Perc'].to_numpy() for N in labels]\n",
    "\n",
    "hist_range = (np.min(data_sets), np.max(data_sets))\n",
    "number_of_bins = 20\n",
    "binned_data_sets=[]\n",
    "for d in data_sets:\n",
    "    hist = np.histogram(d, range=hist_range, bins=number_of_bins)[0]\n",
    "    hist_max = np.max(hist)\n",
    "    binned_data_sets.append(hist/hist_max)\n",
    "\n",
    "binned_data_sets = np.array(binned_data_sets)\n",
    "\n",
    "x_locations = np.linspace(0, len(binned_data_sets)+1, len(binned_data_sets))\n",
    "\n",
    "i=0\n",
    "for x_loc, binned_data in zip(x_locations, binned_data_sets):\n",
    "    non_zero = np.nonzero(binned_data)[0]\n",
    "    effective_range_ids = non_zero[0], non_zero[-1]\n",
    "    effective_bins = non_zero[-1] - non_zero[0] + 1\n",
    "    effective_range = hist_range[0]+non_zero[0]*(hist_range[1]-hist_range[0])/number_of_bins, \\\n",
    "                        hist_range[0]+non_zero[-1]*(hist_range[1]-hist_range[0])/number_of_bins\n",
    "\n",
    "    bin_edges = np.linspace(effective_range[0], effective_range[1], effective_bins+1)\n",
    "    centers = 0.5 * (bin_edges + np.roll(bin_edges, 1))[1:]\n",
    "    \n",
    "    heights = np.diff(bin_edges)\n",
    "    # lefts = x_loc - 0.5 * binned_data\n",
    "    lefts = x_loc - 0.5 * binned_data[effective_range_ids[0]:effective_range_ids[1]+1]\n",
    "    ax.barh(centers, binned_data[effective_range_ids[0]:effective_range_ids[1]+1], height=heights, left=lefts, color=palette[i], edgecolor='#595959')\n",
    "    i += 1\n",
    "\n",
    "sns.despine()\n",
    "ax.set_xticks(x_locations)\n",
    "ax.set_xticklabels(labels)\n",
    "\n",
    "ax.set_ylabel(\"Percentage of tests saved\")\n",
    "ax.set_xlabel(\"Number of contacts\")\n",
    "ax.get_yaxis().set_major_formatter(matplotlib.ticker.PercentFormatter())\n",
    "# ax.set_ylim([-2, 1])\n",
    "ax.set_xlim([-1, 7])\n",
    "\n",
    "fig.tight_layout()\n",
    "fig.savefig('figures/{name}_percentage.pdf'.format(name=name))"
   ]
  },
  {
   "cell_type": "code",
   "execution_count": 52,
   "metadata": {},
   "outputs": [],
   "source": [
    "# utils.latexify(font_size=10)\n",
    "\n",
    "# fig_height, fig_aspect = get_fig_dim(width_pt, fraction=0.6)\n",
    "# fig, ax = plt.subplots(figsize=(fig_height*fig_aspect,fig_height))\n",
    "\n",
    "# sns.violinplot(data=tests_df, x=\"Number of contacts\", y=\"Number of tests\", cut=0, split=True,\n",
    "#                 hue=\"Method\", palette=palette[:2], hue_order=['Dorfman', 'Algorithm 1'], inner=None)\n",
    "# sns.despine()\n",
    "\n",
    "# ax.legend(loc='upper left')\n",
    "# ax.set_yscale('log')\n",
    "# ax.set_yticks([1, 5, 10, 20, 50, 100, 200, 500])\n",
    "# ax.get_yaxis().set_major_formatter(matplotlib.ticker.ScalarFormatter())\n",
    "# ax.tick_params(which='minor', left=False)\n",
    "\n",
    "# fig.tight_layout()\n",
    "# fig.savefig('figures/{name}_tests_log_dist.pdf'.format(name=name))"
   ]
  },
  {
   "cell_type": "code",
   "execution_count": null,
   "metadata": {},
   "outputs": [],
   "source": []
  }
 ],
 "metadata": {
  "kernelspec": {
   "display_name": "Python 3.9.1 64-bit ('env': venv)",
   "language": "python",
   "name": "python391jvsc74a57bd0aa4d90a6ddf34055b4d663caf538a304b130a52dccbb19e6af7dab2cae6a7288"
  },
  "language_info": {
   "codemirror_mode": {
    "name": "ipython",
    "version": 3
   },
   "file_extension": ".py",
   "mimetype": "text/x-python",
   "name": "python",
   "nbconvert_exporter": "python",
   "pygments_lexer": "ipython3",
   "version": "3.9.1"
  },
  "metadata": {
   "interpreter": {
    "hash": "c425b3d18afb7ef01beae38734bbc4c3f66a0926b3e7f0a803887fb6dc8ff96a"
   }
  },
  "orig_nbformat": 2
 },
 "nbformat": 4,
 "nbformat_minor": 2
}
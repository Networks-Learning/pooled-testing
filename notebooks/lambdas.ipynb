{
 "cells": [
  {
   "cell_type": "markdown",
   "source": [
    "# Average number of tests, false negative rate and false positive rate under different values of the parameters λ<sub>1</sub> and λ<sub>2</sub>\n",
    "\n",
    "This notebook reproduces Fig. 3 and Tables S3-S10."
   ],
   "metadata": {}
  },
  {
   "cell_type": "code",
   "execution_count": 1,
   "source": [
    "import os\n",
    "os.chdir(\"../\")"
   ],
   "outputs": [],
   "metadata": {}
  },
  {
   "cell_type": "code",
   "execution_count": 2,
   "source": [
    "import pandas as pd\n",
    "import numpy as np\n",
    "import matplotlib\n",
    "import scipy\n",
    "import seaborn as sns\n",
    "import glob\n",
    "import json\n",
    "from src import utils\n",
    "from src.utils import get_fig_dim\n",
    "from IPython.display import clear_output\n",
    "import matplotlib.pyplot as plt\n",
    "import docx\n",
    "\n",
    "sns.set_theme(context='paper', style='ticks', font_scale=1)"
   ],
   "outputs": [],
   "metadata": {}
  },
  {
   "cell_type": "markdown",
   "source": [
    "Set the values of sensitivity s<sub>e</sub> and specificity s<sub>p</sub>."
   ],
   "metadata": {}
  },
  {
   "cell_type": "code",
   "execution_count": 6,
   "source": [
    "se=0.7\n",
    "sp=0.97"
   ],
   "outputs": [],
   "metadata": {}
  },
  {
   "cell_type": "code",
   "execution_count": 7,
   "source": [
    "name=\"lambdas\"\n",
    "width_pt = 469\n",
    "palette = sns.color_palette('husl', 6)\n",
    "type_dict = {\n",
    "    'N' : int, \n",
    "    'false_negatives' : int,\n",
    "    'false_positives' : int,\n",
    "    'k' : float,\n",
    "    'lambda_1' : float,\n",
    "    'lambda_2' : float,\n",
    "    'method' : str,\n",
    "    'num_of_infected' : int,\n",
    "    'num_of_tests' : int,\n",
    "    # 'avg_group_size' : float,\n",
    "    'r' : float,\n",
    "    'score' : float,\n",
    "    'se' : float,\n",
    "    'sp' : float,\n",
    "    'seed' : int\n",
    "}"
   ],
   "outputs": [],
   "metadata": {}
  },
  {
   "cell_type": "code",
   "execution_count": 8,
   "source": [
    "files = glob.glob(\"./outputs/{name}_*_se_{se}_sp_{sp}_*.json\".format(name=name, se=se, sp=sp))\n",
    "\n",
    "dicts = []\n",
    "for fl_id, fl in enumerate(files):\n",
    "    clear_output(wait=True)\n",
    "    print('Reading file ' + str(fl_id+1)+'/'+str(len(files)))\n",
    "    with open(fl,\"r\") as f:\n",
    "        js = json.load(f)\n",
    "        sizes = []\n",
    "        for group_id in js['groups']:\n",
    "            sizes.append(int(js['groups'][group_id]))\n",
    "\n",
    "        # avg_group_size = np.mean(sizes)\n",
    "        sizes = sorted(sizes, reverse=True)\n",
    "        sizes_str = '|'.join([str(x) for x in sizes])\n",
    "\n",
    "        \n",
    "        for seed in js['seeds']:\n",
    "            seed_js = js.copy()\n",
    "            seed_js.pop('seeds', None)\n",
    "            seed_js.pop('groups', None)    \n",
    "            seed_js = seed_js | js['seeds'][seed]\n",
    "            seed_js['seed']=seed\n",
    "            seed_js['group_sizes'] = sizes_str\n",
    "\n",
    "            dicts.append(seed_js)\n",
    "\n",
    "input_df = pd.DataFrame(dicts)"
   ],
   "outputs": [
    {
     "output_type": "stream",
     "name": "stdout",
     "text": [
      "Reading file 2001/2001\n"
     ]
    }
   ],
   "metadata": {
    "tags": []
   }
  },
  {
   "cell_type": "markdown",
   "source": [
    "The following block stores the results under the given sensitivity and specificity values into a dataframe and saves the dataframe in the 'temp-outputs' directory. Execute it and repeat for all combinations of sensitivity s<sub>e</sub> and specificity s<sub>p</sub>. This is done to avoid excessive memory usage by reading all output files at once."
   ],
   "metadata": {}
  },
  {
   "cell_type": "code",
   "execution_count": 9,
   "source": [
    "total_df = input_df.astype(type_dict) # Fix types\n",
    "total_df = total_df.rename(columns={\"method\": \"Method\", \"score\": \"Score\", \"false_negatives\": \"FNs\", \"false_positives\": \"FPs\",\n",
    "                                    \"num_of_tests\": \"Number of tests\", \"lambda_1\" : \"lambda 1\", \"lambda_2\" : \"lambda 2\",\n",
    "                                    \"exp_tests\" : \"Expected tests\", \"group_sizes\" : \"Group sizes\"}) # Rename columns\n",
    "total_df = total_df.replace({'binomial': 'Dorfman', 'negbin': 'Neg.Bin.'}) # Rename methods\n",
    "total_df['False Negative rate'] = total_df['FNs']/total_df['num_of_infected']*100\n",
    "total_df['False Negative rate'] = total_df['False Negative rate'].replace(np.inf, np.nan).fillna(0)\n",
    "total_df['False Positive rate'] = total_df['FPs']/(total_df['N']-total_df['num_of_infected'])*100\n",
    "total_df['False Positive rate'] = total_df['False Positive rate'].replace(np.inf, np.nan).fillna(0)\n",
    "\n",
    "FN_df=total_df[total_df['lambda 2']==0.0]\n",
    "FP_df=total_df[total_df['lambda 1']==0.0]\n",
    "FN_df = FN_df.groupby(by=['Group sizes']).mean().reset_index()[['Group sizes', 'Number of tests', 'False Negative rate', 'False Positive rate', 'FNs', 'FPs', 'lambda 1']]\n",
    "FP_df = FP_df.groupby(by=['Group sizes']).mean().reset_index()[['Group sizes', 'Number of tests', 'False Negative rate', 'False Positive rate', 'FNs', 'FPs', 'lambda 2']]\n",
    "\n",
    "FN_df.to_pickle(\"temp-outputs/FN_df_se_{se}_sp_{sp}.pkl\".format(se=se, sp=sp))\n",
    "FP_df.to_pickle(\"temp-outputs/FP_df_se_{se}_sp_{sp}.pkl\".format(se=se, sp=sp))"
   ],
   "outputs": [],
   "metadata": {}
  },
  {
   "cell_type": "code",
   "execution_count": 11,
   "source": [
    "utils.latexify(font_size=10)\n",
    "\n",
    "fig_height, fig_aspect = get_fig_dim(width_pt, fraction=0.6)\n",
    "fig, axes = plt.subplots(nrows=2, ncols=2, figsize=(2*fig_height*fig_aspect,2*fig_height))\n",
    "secondary_axes = [ax.twinx() for ax in axes.flatten()]\n",
    "\n",
    "pairs = [(0.7, 0.97), (0.8, 0.98), (0.9, 0.99), (0.99, 0.99)]\n",
    "letters = [r'\\textbf{A}', r'\\textbf{B}', r'\\textbf{C}', r'\\textbf{D}']\n",
    "for ind, ax in enumerate(axes.flatten()):\n",
    "    \n",
    "    ax2 = secondary_axes[ind]\n",
    "    se = pairs[ind][0]\n",
    "    sp = pairs[ind][1]\n",
    "    FN_df = pd.read_pickle(\"temp-outputs/FN_df_se_{se}_sp_{sp}.pkl\".format(se=se, sp=sp))\n",
    "    FP_df = pd.read_pickle(\"temp-outputs/FP_df_se_{se}_sp_{sp}.pkl\".format(se=se, sp=sp))\n",
    "\n",
    "    marker_size = 40\n",
    "    p = sns.scatterplot(data=FN_df, x=\"Number of tests\", y=\"False Negative rate\", ax=ax, color=palette[4], s=marker_size)#, label=r'$\\lambda_2 = 0$')\n",
    "    p2 = sns.scatterplot(data=FP_df, x=\"Number of tests\", y=\"False Positive rate\", ax=ax2, color=palette[5], s=marker_size)#, label=r'$\\lambda_1 = 0$')\n",
    "    sns.despine(top=True, right=False)\n",
    "\n",
    "    ax.set_xlim([16,110])\n",
    "    ax.set_ylim([0,17])\n",
    "    ax2.set_ylim([0.02,0.7])\n",
    "    ax.set_xscale('log')\n",
    "    ax.set_xticks([20, 50, 100])\n",
    "    ax.set_xticklabels([20, 50, 100])\n",
    "    plt.setp(ax.get_xminorticklabels(), visible=False)\n",
    "    ax.get_yaxis().set_major_formatter(matplotlib.ticker.PercentFormatter(decimals=0))\n",
    "    ax2.get_yaxis().set_major_formatter(matplotlib.ticker.PercentFormatter(decimals=1))\n",
    "\n",
    "    ax2.spines['left'].set_color(palette[4])\n",
    "    ax2.spines['right'].set_color(palette[5])\n",
    "    ax.tick_params(axis='y', color=palette[4])\n",
    "    ax2.tick_params(axis='y', color=palette[5])\n",
    "\n",
    "    ax.set_xlabel('Number of tests')\n",
    "    ax.set_ylabel('False Negative Rate')\n",
    "    ax2.set_ylabel('False Positive Rate')\n",
    "\n",
    "    ax.text(x=0.01, y=1, s=letters[ind], size=15, transform = ax.transAxes, horizontalalignment='center', verticalalignment='bottom')\n",
    "    ax.text(x=0.65, y=1, s=r'$s_e={se}$'.format(se=se)+'\\n'+r'$s_p={sp}$'.format(sp=sp), transform = ax.transAxes, horizontalalignment='left', verticalalignment='top')\n",
    "    \n",
    "fig.tight_layout()\n",
    "fig.savefig('figures/sci-adv-fig3.pdf'.format(ver=ind))\n"
   ],
   "outputs": [
    {
     "output_type": "display_data",
     "data": {
      "image/png": "[encoded data removed]",
      "text/plain": [
       "<Figure size 560.697x346.53 with 8 Axes>"
      ]
     },
     "metadata": {}
    }
   ],
   "metadata": {}
  },
  {
   "cell_type": "markdown",
   "source": [
    "Set the values of sensitivity s<sub>e</sub> and specificity s<sub>p</sub> to replicate the contents of Tables S3-S10. Uncomment the previous to last line for results while varying λ<sub>1</sub> and the last line for results while varying λ<sub>2</sub>. The resulting table is saved in the 'temp.docx' file in the 'temp-outputs' directory."
   ],
   "metadata": {}
  },
  {
   "cell_type": "code",
   "execution_count": 14,
   "source": [
    "se=0.99\n",
    "sp=0.99\n",
    "\n",
    "to_docx = pd.read_pickle(\"temp-outputs/FN_df_se_{se}_sp_{sp}.pkl\".format(se=se, sp=sp))\n",
    "# to_docx = pd.read_pickle(\"temp-outputs/FP_df_se_{se}_sp_{sp}.pkl\".format(se=se, sp=sp))"
   ],
   "outputs": [],
   "metadata": {}
  },
  {
   "cell_type": "code",
   "execution_count": 15,
   "source": [
    "to_docx = to_docx.sort_values(by=['Number of tests'])[['Number of tests', 'False Negative rate', 'False Positive rate']]\n",
    "to_docx = to_docx.round(2)\n",
    "try:\n",
    "  os.remove(\"temp-outputs/temp.docx\")\n",
    "except:\n",
    "  None\n",
    "doc = docx.Document()\n",
    "doc.save('temp-outputs/temp.docx')\n",
    "\n",
    "t = doc.add_table(to_docx.shape[0]+1, to_docx.shape[1])\n",
    "\n",
    "for j in range(to_docx.shape[-1]):\n",
    "    t.cell(0,j).text = to_docx.columns[j]\n",
    "\n",
    "for i in range(to_docx.shape[0]):\n",
    "    for j in range(to_docx.shape[-1]):\n",
    "        t.cell(i+1,j).text = str(to_docx.values[i,j])\n",
    "\n",
    "# save the doc\n",
    "doc.save('temp-outputs/temp.docx')"
   ],
   "outputs": [],
   "metadata": {}
  }
 ],
 "metadata": {
  "kernelspec": {
   "name": "python3",
   "display_name": "Python 3.9.1 64-bit ('env')"
  },
  "language_info": {
   "codemirror_mode": {
    "name": "ipython",
    "version": 3
   },
   "file_extension": ".py",
   "mimetype": "text/x-python",
   "name": "python",
   "nbconvert_exporter": "python",
   "pygments_lexer": "ipython3",
   "version": "3.9.1"
  },
  "metadata": {
   "interpreter": {
    "hash": "c425b3d18afb7ef01beae38734bbc4c3f66a0926b3e7f0a803887fb6dc8ff96a"
   }
  },
  "orig_nbformat": 2,
  "interpreter": {
   "hash": "e312f55c3c97e43ef328a86651ae8cf61ffd8a19c7888f1a2843b6f17cf5ecdd"
  }
 },
 "nbformat": 4,
 "nbformat_minor": 2
}
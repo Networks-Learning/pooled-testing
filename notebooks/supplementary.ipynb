{
 "cells": [
  {
   "cell_type": "markdown",
   "metadata": {},
   "source": [
    "# Supplementary notebook\n",
    " \n",
    "This notebook contains the estimation of the dilution parameter d and the plot showing the effect of dilution on a pooled test's sensitivity as a function of the concentration of viral load."
   ]
  },
  {
   "cell_type": "code",
   "execution_count": 1,
   "metadata": {},
   "outputs": [],
   "source": [
    "import os\n",
    "os.chdir(\"../\")"
   ]
  },
  {
   "cell_type": "code",
   "execution_count": 2,
   "metadata": {},
   "outputs": [],
   "source": [
    "import pandas as pd\n",
    "import numpy as np\n",
    "import matplotlib\n",
    "import matplotlib.pyplot as plt\n",
    "import seaborn as sns\n",
    "import glob\n",
    "import json\n",
    "from src import utils\n",
    "from src.utils import get_fig_dim\n",
    "from IPython.display import clear_output\n",
    "import matplotlib.pyplot as plt\n",
    "from sklearn.linear_model import LinearRegression, Ridge\n",
    "from matplotlib.offsetbox import OffsetImage, AnnotationBbox\n",
    "\n",
    "sns.set_theme(context='paper', style='ticks', font_scale=1)\n",
    "width_pt = 469\n",
    "palette = sns.color_palette('husl', 6)"
   ]
  },
  {
   "cell_type": "markdown",
   "metadata": {},
   "source": [
    "## Estimation of dilution parameter"
   ]
  },
  {
   "cell_type": "code",
   "execution_count": 3,
   "metadata": {},
   "outputs": [
    {
     "name": "stdout",
     "output_type": "stream",
     "text": [
      "Estimated dilution parameter: 0.04549745359504318\n"
     ]
    }
   ],
   "source": [
    "se=0.99 # Analytic sensitivity\n",
    "sp=0.99 # Analytic specificity\n",
    "S_val = [0.81, 0.91, 0.93, 0.99]\n",
    "c_val = [0.02, 0.1, 0.2, 1.0]\n",
    "xs = np.array([np.log(c) for c in c_val])\n",
    "ys = np.array([np.log((S-1+sp)/(sp+se-1)) for S in S_val])\n",
    "xs = xs.reshape(-1,1)\n",
    "reg = Ridge(alpha=1.0).fit(xs, ys)\n",
    "d = reg.coef_[0]\n",
    "print('Estimated dilution parameter: {d}'.format(d=d))"
   ]
  },
  {
   "cell_type": "markdown",
   "metadata": {},
   "source": [
    "## Visualization of dilution"
   ]
  },
  {
   "cell_type": "code",
   "execution_count": 4,
   "metadata": {},
   "outputs": [],
   "source": [
    "c = np.linspace(0, 1.0, 100000)\n",
    "S = 1 - sp + (sp+se-1)*np.power(c, d)"
   ]
  },
  {
   "cell_type": "code",
   "execution_count": 10,
   "metadata": {},
   "outputs": [
    {
     "data": {
      "image/png": "[encoded data removed]",
      "text/plain": [
       "<Figure size 280.349x173.265 with 1 Axes>"
      ]
     },
     "metadata": {},
     "output_type": "display_data"
    }
   ],
   "source": [
    "utils.latexify(font_serif='Times New Roman', font_size=10, usetex=False)\n",
    "\n",
    "fig_height, fig_aspect = get_fig_dim(width_pt, fraction=0.6)\n",
    "fig, ax = plt.subplots(figsize=(fig_height*fig_aspect,fig_height))\n",
    "\n",
    "sns.scatterplot(x=c_val, y=S_val, ax=ax, color=palette[0], label='Data points by\\nBateman et al. [44]')\n",
    "ax.legend()\n",
    "\n",
    "se, sp=0.99, 0.99\n",
    "S = 1 - sp + (sp+se-1)*np.power(c, d) \n",
    "sns.lineplot(x=c, y=S, ax=ax, color=palette[2], legend=None)\n",
    "ax.text(x=0.3, y=0.99, s=r'$\\mathregular{s_e=}$' + r'{se}, '.format(se=se) + r'$\\mathregular{s_p=}$' +r'{sp}'.format(sp=sp), rotation=2.5)\n",
    "\n",
    "se, sp=0.8, 0.98\n",
    "S = 1 - sp + (sp+se-1)*np.power(c, d) \n",
    "sns.lineplot(x=c, y=S, ax=ax, color=palette[4], legend=None)\n",
    "ax.text(x=0.3, y=0.81, s=r'$\\mathregular{s_e=}$' + r'{se}, '.format(se=se) + r'$\\mathregular{s_p=}$' +r'{sp}'.format(sp=sp), rotation=2.5)\n",
    "# ax.text(0.3,0.8,r'$s_e={se}, s_p={sp}$'.format(se=se, sp=sp),rotation=2.5)\n",
    "\n",
    "sns.despine()\n",
    "\n",
    "ax.set_ylabel('Pooled test\\'s sensitivity')\n",
    "ax.set_xlabel('Concentration of viral load')\n",
    "ax.legend()\n",
    "fig.tight_layout()\n",
    "fig.savefig('figures/figs1.tif', dpi=300)"
   ]
  },
  {
   "cell_type": "code",
   "execution_count": null,
   "metadata": {},
   "outputs": [],
   "source": []
  }
 ],
 "metadata": {
  "interpreter": {
   "hash": "e312f55c3c97e43ef328a86651ae8cf61ffd8a19c7888f1a2843b6f17cf5ecdd"
  },
  "kernelspec": {
   "display_name": "Python 3.9.1 64-bit ('env')",
   "name": "python3"
  },
  "language_info": {
   "codemirror_mode": {
    "name": "ipython",
    "version": 3
   },
   "file_extension": ".py",
   "mimetype": "text/x-python",
   "name": "python",
   "nbconvert_exporter": "python",
   "pygments_lexer": "ipython3",
   "version": "3.9.1"
  },
  "metadata": {
   "interpreter": {
    "hash": "c425b3d18afb7ef01beae38734bbc4c3f66a0926b3e7f0a803887fb6dc8ff96a"
   }
  },
  "orig_nbformat": 2
 },
 "nbformat": 4,
 "nbformat_minor": 2
}

{
 "cells": [
  {
   "cell_type": "markdown",
   "source": [
    "# Performance comparison in the presence of unreported contacts\n",
    "\n",
    "This notebook reproduces Fig. 5. "
   ],
   "metadata": {}
  },
  {
   "cell_type": "code",
   "execution_count": 1,
   "source": [
    "import os\n",
    "os.chdir(\"../\")"
   ],
   "outputs": [],
   "metadata": {}
  },
  {
   "cell_type": "code",
   "execution_count": 2,
   "source": [
    "import pandas as pd\n",
    "import numpy as np\n",
    "import matplotlib\n",
    "import matplotlib.pyplot as plt\n",
    "import seaborn as sns\n",
    "import glob\n",
    "import json\n",
    "from src import utils\n",
    "from src.utils import get_fig_dim\n",
    "from IPython.display import clear_output\n",
    "import matplotlib.pyplot as plt\n",
    "\n",
    "sns.set_theme(context='paper', style='ticks', font_scale=1)"
   ],
   "outputs": [],
   "metadata": {}
  },
  {
   "cell_type": "markdown",
   "source": [
    "Set the values of sensitivity s<sub>e</sub> and specificity s<sub>p</sub>."
   ],
   "metadata": {}
  },
  {
   "cell_type": "code",
   "execution_count": 3,
   "source": [
    "se=0.8\n",
    "sp=0.98"
   ],
   "outputs": [],
   "metadata": {}
  },
  {
   "cell_type": "code",
   "execution_count": 4,
   "source": [
    "name=\"hidden_contacts\"\n",
    "width_pt = 469\n",
    "palette = sns.color_palette('husl', 6)\n",
    "type_dict = {\n",
    "    'N' : int,\n",
    "    'untraced' : float, \n",
    "    'false_negatives' : int,\n",
    "    'false_positives' : int,\n",
    "    'k' : float,\n",
    "    'bench' : bool,\n",
    "    'lambda_1' : float,\n",
    "    'lambda_2' : float,\n",
    "    'method' : str,\n",
    "    'num_of_infected' : int,\n",
    "    'num_of_tests' : int,\n",
    "    'avg_group_size' : float,\n",
    "    'r' : float,\n",
    "    'score' : float,\n",
    "    'se' : float,\n",
    "    'sp' : float,\n",
    "    'd' : float,\n",
    "    'seed' : int\n",
    "}"
   ],
   "outputs": [],
   "metadata": {}
  },
  {
   "cell_type": "code",
   "execution_count": 5,
   "source": [
    "files = glob.glob(\"./outputs/{name}_*_se_{se}_sp_{sp}_*.json\".format(name=name, se=se, sp=sp))\n",
    "\n",
    "dicts = []\n",
    "for fl_id, fl in enumerate(files):\n",
    "    clear_output(wait=True)\n",
    "    print('Reading file ' + str(fl_id+1)+'/'+str(len(files)))\n",
    "    with open(fl,\"r\") as f:\n",
    "        js = json.load(f)\n",
    "        sizes = []\n",
    "        for group_id in js['groups']:\n",
    "            sizes.append(int(js['groups'][group_id]))\n",
    "\n",
    "        avg_group_size = np.mean(sizes)\n",
    "        \n",
    "        for seed in js['seeds']:\n",
    "            seed_js = js.copy()\n",
    "            seed_js.pop('seeds', None)\n",
    "            seed_js.pop('groups', None)    \n",
    "            seed_js = seed_js | js['seeds'][seed]\n",
    "            seed_js['seed']=seed\n",
    "            seed_js['avg_group_size'] = avg_group_size\n",
    "\n",
    "            dicts.append(seed_js)\n",
    "\n",
    "input_df = pd.DataFrame(dicts)"
   ],
   "outputs": [
    {
     "output_type": "stream",
     "name": "stdout",
     "text": [
      "Reading file 64/64\n"
     ]
    }
   ],
   "metadata": {
    "tags": []
   }
  },
  {
   "cell_type": "code",
   "execution_count": 6,
   "source": [
    "total_df = input_df.astype(type_dict) # Fix types\n",
    "total_df = total_df.rename(columns={'avg_group_size' : 'Average pool size'})"
   ],
   "outputs": [],
   "metadata": {}
  },
  {
   "cell_type": "code",
   "execution_count": 7,
   "source": [
    "perc_df=total_df.pivot(index=['lambda_1', 'lambda_2', 'se', 'sp', 'r', 'k', 'd', 'bench', 'seed', 'N', 'untraced'], columns='method', values='score').reset_index()\n",
    "perc_df=perc_df[perc_df['bench']==False]\n",
    "perc_df['Percentage'] = (perc_df['binomial'] - perc_df['negbin'])/perc_df['binomial']*100\n",
    "perc_df = perc_df[['N', 'untraced', 'Percentage']]\n",
    "perc_df['traced'] = (1-perc_df['untraced'])*100"
   ],
   "outputs": [],
   "metadata": {}
  },
  {
   "cell_type": "code",
   "execution_count": 9,
   "source": [
    "infected_df=total_df[['lambda_1', 'lambda_2', 'se', 'sp', 'r', 'k', 'd', 'method', 'seed', 'N', 'untraced', 'bench', 'num_of_infected']]\n",
    "infected_df=infected_df[infected_df['bench']==False]\n",
    "infected_df = infected_df.rename(columns={'num_of_infected': 'Num of infected'})\n",
    "infected_df['traced'] = (1-infected_df['untraced'])*100"
   ],
   "outputs": [],
   "metadata": {}
  },
  {
   "cell_type": "code",
   "execution_count": 10,
   "source": [
    "utils.latexify(font_size=10)\n",
    "\n",
    "fig_height, fig_aspect = get_fig_dim(width_pt, fraction=0.65)\n",
    "fig, [ax1, ax2] = plt.subplots(nrows=1, ncols=2, figsize=(2*fig_height*fig_aspect,fig_height))\n",
    "\n",
    "# Subplot 1\n",
    "traced = sorted(perc_df['traced'].unique(), reverse=True)\n",
    "sns.pointplot(data=perc_df, x=\"N\", y=\"Percentage\", hue=\"traced\", palette=palette[0:4],\n",
    "            ci=95, join=False, dodge=.5, capsize=0.1, legend=False, hue_order=traced, ax=ax1)\n",
    "sns.despine()\n",
    "\n",
    "handles, labels = ax1.get_legend_handles_labels()\n",
    "labels = [x[:-2]+r'\\%' for x in labels]\n",
    "ax1.legend(handles=handles, labels=labels, title='Percentage of contacts\\nsuccessfully traced', ncol=2, loc='upper right')#, bbox_to_anchor=(0.45, 1))\n",
    "ax1.set_ylabel('Average percentage of tests saved')\n",
    "ax1.set_xlabel('Number of traced contacts')\n",
    "ax1.set_ylim([25,50])\n",
    "ax1.set_yticks([30, 40, 50])\n",
    "ax1.get_yaxis().set_major_formatter(matplotlib.ticker.PercentFormatter(decimals=0))\n",
    "\n",
    "ax1.text(x=0.01, y=1, s=r'\\textbf{A}', size=15, transform = ax1.transAxes, horizontalalignment='center', verticalalignment='bottom')\n",
    "\n",
    "# Subplot 2\n",
    "traced = sorted(infected_df['traced'].unique(), reverse=True)\n",
    "sns.barplot(data=infected_df, x=\"N\", y=\"Num of infected\", hue=\"traced\", palette=palette[0:4],\n",
    "            ci=95, hue_order=traced, ax=ax2)\n",
    "sns.despine()\n",
    "\n",
    "handles, labels = ax2.get_legend_handles_labels()\n",
    "labels = [x[:-2]+r'\\%' for x in labels]\n",
    "ax2.legend(handles=handles, labels=labels, title='Percentage of contacts\\nsuccessfully traced', ncol=2, loc='upper left')#, bbox_to_anchor=(0.45, 1))\n",
    "ax2.set_ylabel('Number of infected contacts\\namong traced')\n",
    "ax2.set_xlabel('Number of traced contacts')\n",
    "ax2.set_ylim([0,4])\n",
    "\n",
    "ax2.text(x=0.01, y=1, s=r'\\textbf{B}', size=15, transform = ax2.transAxes, horizontalalignment='center', verticalalignment='bottom')\n",
    "\n",
    "fig.tight_layout()\n",
    "fig.savefig('figures/sci-adv-fig5.pdf')"
   ],
   "outputs": [
    {
     "output_type": "display_data",
     "data": {
      "image/png": "[encoded data removed]",
      "text/plain": [
       "<Figure size 607.422x187.704 with 2 Axes>"
      ]
     },
     "metadata": {}
    }
   ],
   "metadata": {}
  }
 ],
 "metadata": {
  "kernelspec": {
   "name": "python3",
   "display_name": "Python 3.9.1 64-bit ('env')"
  },
  "language_info": {
   "codemirror_mode": {
    "name": "ipython",
    "version": 3
   },
   "file_extension": ".py",
   "mimetype": "text/x-python",
   "name": "python",
   "nbconvert_exporter": "python",
   "pygments_lexer": "ipython3",
   "version": "3.9.1"
  },
  "metadata": {
   "interpreter": {
    "hash": "c425b3d18afb7ef01beae38734bbc4c3f66a0926b3e7f0a803887fb6dc8ff96a"
   }
  },
  "orig_nbformat": 2,
  "interpreter": {
   "hash": "e312f55c3c97e43ef328a86651ae8cf61ffd8a19c7888f1a2843b6f17cf5ecdd"
  }
 },
 "nbformat": 4,
 "nbformat_minor": 2
}
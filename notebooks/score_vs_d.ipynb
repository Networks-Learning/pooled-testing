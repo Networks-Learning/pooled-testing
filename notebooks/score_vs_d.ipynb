{
 "cells": [
  {
   "cell_type": "markdown",
   "source": [
    "# Performance comparison for various values of d\n",
    "\n",
    "This notebook reproduces Fig. 4."
   ],
   "metadata": {}
  },
  {
   "cell_type": "code",
   "execution_count": 1,
   "source": [
    "import os\n",
    "os.chdir(\"../\")"
   ],
   "outputs": [],
   "metadata": {}
  },
  {
   "cell_type": "code",
   "execution_count": 2,
   "source": [
    "import pandas as pd\n",
    "import numpy as np\n",
    "import matplotlib.pyplot as plt\n",
    "import matplotlib as mpl\n",
    "import seaborn as sns\n",
    "import glob\n",
    "import json\n",
    "from src import utils\n",
    "from src.utils import get_fig_dim\n",
    "from IPython.display import clear_output\n",
    "sns.set_theme(context='paper', style='ticks', font_scale=1)"
   ],
   "outputs": [],
   "metadata": {}
  },
  {
   "cell_type": "markdown",
   "source": [
    "Set the values of sensitivity s<sub>e</sub> and specificity s<sub>p</sub>."
   ],
   "metadata": {}
  },
  {
   "cell_type": "code",
   "execution_count": 3,
   "source": [
    "se=0.8\n",
    "sp=0.98"
   ],
   "outputs": [],
   "metadata": {}
  },
  {
   "cell_type": "code",
   "execution_count": 4,
   "source": [
    "name=\"score_vs_d\"\n",
    "width_pt = 469\n",
    "palette = sns.color_palette('husl', 6)\n",
    "type_dict = {\n",
    "    'false_negatives' : int,\n",
    "    'false_positives' : int,\n",
    "    'k' : float,\n",
    "    'd' : float,\n",
    "    'lambda_1' : float,\n",
    "    'lambda_2' : float,\n",
    "    'method' : str,\n",
    "    'avg_group_size' : float,\n",
    "    'num_of_infected' : int,\n",
    "    'num_of_tests' : int,\n",
    "    'r' : float,\n",
    "    'N' : int,\n",
    "    'score' : float,\n",
    "    'se' : float,\n",
    "    'sp' : float,\n",
    "    'seed' : int\n",
    "}"
   ],
   "outputs": [],
   "metadata": {}
  },
  {
   "cell_type": "code",
   "execution_count": 5,
   "source": [
    "files = glob.glob(\"./outputs/{name}_*_se_{se}_sp_{sp}_*.json\".format(name=name, se=se, sp=sp))\n",
    "\n",
    "dicts = []\n",
    "for fl_id, fl in enumerate(files):\n",
    "    clear_output(wait=True)\n",
    "    print('Reading file ' + str(fl_id+1)+'/'+str(len(files)))\n",
    "    with open(fl,\"r\") as f:\n",
    "        js = json.load(f)\n",
    "        sizes = []\n",
    "        for group_id in js['groups']:\n",
    "            sizes.append(int(js['groups'][group_id]))\n",
    "\n",
    "        avg_group_size = np.mean(sizes)\n",
    "        \n",
    "        for seed in js['seeds']:\n",
    "            seed_js = js.copy()\n",
    "            seed_js.pop('seeds', None)\n",
    "            seed_js.pop('groups', None)    \n",
    "            seed_js = seed_js | js['seeds'][seed]\n",
    "            seed_js['seed']=seed\n",
    "            seed_js['avg_group_size'] = avg_group_size\n",
    "\n",
    "            dicts.append(seed_js)\n",
    "\n",
    "input_df = pd.DataFrame(dicts)"
   ],
   "outputs": [
    {
     "output_type": "stream",
     "name": "stdout",
     "text": [
      "Reading file 202/202\n"
     ]
    }
   ],
   "metadata": {
    "tags": []
   }
  },
  {
   "cell_type": "code",
   "execution_count": 7,
   "source": [
    "total_df = input_df.astype(type_dict) # Fix types\n",
    "total_df = total_df.rename(columns={'num_of_tests' : 'tests', 'false_negatives' : 'FNs', 'avg_group_size' : 'size'}) # Rename columns"
   ],
   "outputs": [],
   "metadata": {}
  },
  {
   "cell_type": "code",
   "execution_count": 8,
   "source": [
    "utils.latexify(font_size=10)\n",
    "\n",
    "fig_height, fig_aspect = get_fig_dim(width_pt, fraction=0.6)\n",
    "fig, [ax1, ax2] = plt.subplots(nrows=1, ncols=2, figsize=(2*fig_height*fig_aspect,fig_height))\n",
    "ax12 = ax1.twinx()\n",
    "\n",
    "# Subplot 1\n",
    "\n",
    "sns.lineplot(data=total_df, x=\"d\", y=\"tests\", hue=\"method\", palette=[palette[0]]+[palette[2]], hue_order=['binomial', 'negbin'], ci=95, ax=ax1)\n",
    "sns.lineplot(data=total_df, x=\"d\", y=\"FNs\", hue=\"method\", palette=[palette[0]]+[palette[2]], hue_order=['binomial', 'negbin'], legend=False, linestyle=(0,(5,5)), ci=70, ax=ax12)#, label=r'$\\lambda_1 = 0$')\n",
    "sns.despine(ax=ax1, top=True, right=False)\n",
    "sns.despine(ax=ax12, top=True, right=False)\n",
    "ax1.spines['right'].set_linestyle((0,(5,5)))\n",
    "ax12.spines['right'].set_linestyle((0,(5,5)))\n",
    "\n",
    "ax1.set_xlabel(r'Dilution parameter $d$')\n",
    "ax1.set_ylabel('Average number of tests')\n",
    "ax12.set_ylabel('Average number of\\nfalse negatives')\n",
    "\n",
    "ax1.legend(labels=['Dorf-Cl', 'Dorf-OD'], loc='center right')\n",
    "ax1.set_xlim([0,1])\n",
    "ax1.set_ylim([0,25])\n",
    "ax12.set_ylim([0.7,2.1])\n",
    "ax1.set_xticks([0, 0.2, 0.4, 0.6, 0.8, 1.0])\n",
    "\n",
    "ax1.text(x=0.01, y=1, s=r'\\textbf{A}', size=15, transform = ax1.transAxes, horizontalalignment='center', verticalalignment='bottom')\n",
    "\n",
    "# Subplot 2\n",
    "\n",
    "sns.lineplot(data=total_df, x=\"d\", y=\"size\", hue=\"method\", palette=[palette[0]]+[palette[2]], hue_order=['binomial', 'negbin'], ci=95, ax=ax2)\n",
    "sns.despine(ax=ax2)\n",
    "\n",
    "ax2.set_xlabel(r'Dilution parameter $d$')\n",
    "ax2.set_ylabel('Average pool size')\n",
    "\n",
    "ax2.legend(labels=['Dorf-Cl', 'Dorf-OD'])\n",
    "ax2.set_xlim([0,1])\n",
    "ax2.set_ylim([0,100])\n",
    "ax2.set_xticks([0, 0.2, 0.4, 0.6, 0.8, 1.0])\n",
    "\n",
    "ax2.text(x=0.01, y=1, s=r'\\textbf{B}', size=15, transform = ax2.transAxes, horizontalalignment='center', verticalalignment='bottom')\n",
    "\n",
    "fig.tight_layout()\n",
    "fig.savefig('figures/sci-adv-fig4.pdf')"
   ],
   "outputs": [
    {
     "output_type": "display_data",
     "data": {
      "image/png": "[encoded data removed]",
      "text/plain": [
       "<Figure size 560.697x173.265 with 3 Axes>"
      ]
     },
     "metadata": {}
    }
   ],
   "metadata": {}
  }
 ],
 "metadata": {
  "kernelspec": {
   "name": "python3",
   "display_name": "Python 3.9.1 64-bit ('env')"
  },
  "language_info": {
   "codemirror_mode": {
    "name": "ipython",
    "version": 3
   },
   "file_extension": ".py",
   "mimetype": "text/x-python",
   "name": "python",
   "nbconvert_exporter": "python",
   "pygments_lexer": "ipython3",
   "version": "3.9.1"
  },
  "metadata": {
   "interpreter": {
    "hash": "c425b3d18afb7ef01beae38734bbc4c3f66a0926b3e7f0a803887fb6dc8ff96a"
   }
  },
  "orig_nbformat": 2,
  "interpreter": {
   "hash": "e312f55c3c97e43ef328a86651ae8cf61ffd8a19c7888f1a2843b6f17cf5ecdd"
  }
 },
 "nbformat": 4,
 "nbformat_minor": 2
}
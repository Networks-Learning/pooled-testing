{
 "cells": [
  {
   "cell_type": "markdown",
   "source": [
    "# Score vs N\n",
    "\n",
    "In this notebook we plot the score, # of tests, # of FPs and # of FNs for several values of N. "
   ],
   "metadata": {}
  },
  {
   "cell_type": "code",
   "execution_count": 1,
   "source": [
    "import os\n",
    "os.chdir(\"../\")"
   ],
   "outputs": [],
   "metadata": {}
  },
  {
   "cell_type": "code",
   "execution_count": 2,
   "source": [
    "import pandas as pd\n",
    "import numpy as np\n",
    "import matplotlib.pyplot as plt\n",
    "import matplotlib as mpl\n",
    "import seaborn as sns\n",
    "import glob\n",
    "import json\n",
    "from src import utils\n",
    "from src.utils import get_fig_dim\n",
    "from IPython.display import clear_output\n",
    "sns.set_theme(context='paper', style='ticks', font_scale=1)"
   ],
   "outputs": [],
   "metadata": {}
  },
  {
   "cell_type": "code",
   "execution_count": 3,
   "source": [
    "name=\"score_vs_R_k\"\n",
    "width_pt = 469\n",
    "N=100\n",
    "se=0.9\n",
    "sp=0.99\n",
    "palette = sns.color_palette('husl', 6)\n",
    "type_dict = {\n",
    "    'false_negatives' : int,\n",
    "    'false_positives' : int,\n",
    "    'k' : float,\n",
    "    'lambda_1' : float,\n",
    "    'lambda_2' : float,\n",
    "    'method' : str,\n",
    "    'avg_group_size' : float,\n",
    "    'num_of_infected' : int,\n",
    "    'num_of_tests' : int,\n",
    "    'r' : float,\n",
    "    'N' : int,\n",
    "    'score' : float,\n",
    "    'se' : float,\n",
    "    'sp' : float,\n",
    "    'seed' : int\n",
    "}"
   ],
   "outputs": [],
   "metadata": {}
  },
  {
   "cell_type": "code",
   "execution_count": 4,
   "source": [
    "files = glob.glob(\"./outputs/{name}_*_N_{N}_*_se_{se}_sp_{sp}_*.json\".format(name=name, N=N, se=se, sp=sp))\n",
    "\n",
    "dicts = []\n",
    "for fl_id, fl in enumerate(files):\n",
    "    clear_output(wait=True)\n",
    "    print('Reading file ' + str(fl_id+1)+'/'+str(len(files)))\n",
    "    with open(fl,\"r\") as f:\n",
    "        js = json.load(f)\n",
    "        sizes = []\n",
    "        for group_id in js['groups']:\n",
    "            sizes.append(int(js['groups'][group_id]))\n",
    "\n",
    "        avg_group_size = np.mean(sizes)\n",
    "        \n",
    "        for seed in js['seeds']:\n",
    "            seed_js = js.copy()\n",
    "            seed_js.pop('seeds', None)\n",
    "            seed_js.pop('groups', None)    \n",
    "            seed_js = seed_js | js['seeds'][seed]\n",
    "            seed_js['seed']=seed\n",
    "            seed_js['avg_group_size'] = avg_group_size\n",
    "\n",
    "            dicts.append(seed_js)\n",
    "\n",
    "input_df = pd.DataFrame(dicts)"
   ],
   "outputs": [
    {
     "output_type": "stream",
     "name": "stdout",
     "text": [
      "Reading file 800/800\n"
     ]
    }
   ],
   "metadata": {
    "tags": []
   }
  },
  {
   "cell_type": "code",
   "execution_count": 5,
   "source": [
    "total_df = input_df.astype(type_dict) # Fix types\n",
    "# total_df = total_df.rename(columns={\"method\": \"Method\", \"score\": \"Score\"}) # Rename columns\n",
    "# total_df = total_df.replace({'binomial': 'Dorfman', 'negbin': 'Algorithm 1'}) # Rename methods"
   ],
   "outputs": [],
   "metadata": {}
  },
  {
   "cell_type": "code",
   "execution_count": 6,
   "source": [
    "# results = total_df[(total_df['N']==N) & (total_df['lambda_1']==0.0) & (total_df['lambda_2']==0.0) & (total_df['k']<=1.0)]\n",
    "results = total_df.pivot(index=['lambda_1', 'lambda_2', 'se', 'sp', 'r', 'k', 'seed', 'N'], columns='method', values='score').reset_index()\n",
    "results['Percentage'] = (results['binomial'] - results['negbin'])/results['binomial']*100\n",
    "results = results[['r','k','Percentage']]\n",
    "results = results.groupby(['r', 'k']).mean().reset_index()\n",
    "results = results.pivot('r', 'k', 'Percentage')"
   ],
   "outputs": [],
   "metadata": {}
  },
  {
   "cell_type": "code",
   "execution_count": 7,
   "source": [
    "def mapper(r_quer, k_quer, r, k, Z):\n",
    "    ind_r = 0\n",
    "    while r[ind_r] < r_quer:\n",
    "        ind_r += 1\n",
    "    ind_k = 0\n",
    "    while k[ind_k] < k_quer:\n",
    "        ind_k += 1\n",
    "\n",
    "    return int(np.around(Z[ind_r, ind_k]))\n"
   ],
   "outputs": [],
   "metadata": {}
  },
  {
   "cell_type": "code",
   "execution_count": 8,
   "source": [
    "utils.latexify(font_size=10)\n",
    "\n",
    "Z = results.to_numpy()\n",
    "k = results.columns.to_numpy()\n",
    "r = results.index.to_numpy()\n",
    "X, Y = np.meshgrid(k, r)\n",
    "\n",
    "nbins=20\n",
    "levels=mpl.ticker.MaxNLocator(nbins=nbins).tick_values(Z.min(),Z.max())\n",
    "\n",
    "fig_height, fig_aspect = get_fig_dim(width_pt, fraction=0.8)\n",
    "fig, ax = plt.subplots(figsize=(fig_height*fig_aspect, fig_height))\n",
    "\n",
    "# ax.contour(X,Y,Z,levels=levels, colors='black', linestyles='solid')\n",
    "cs = ax.contourf(X,Y,Z,levels=levels, cmap=sns.color_palette(\"crest\", as_cmap=True))\n",
    "fig.colorbar(cs,format=mpl.ticker.PercentFormatter(),ticks=[0.0, 10.0, 20.0, 30.0, 40.0, 50.0, 60.0])\n",
    "sns.despine(ax=ax)\n",
    "\n",
    "cit=23\n",
    "r_quer=0.74\n",
    "k_quer=0.33\n",
    "ax.annotate(r'({cit}): {perc}\\%'.format(cit=cit, perc=mapper(r_quer=r_quer, k_quer=k_quer, r=r, k=k, Z=Z)), xy=(k_quer, r_quer),  xycoords='data',\n",
    "            xytext=(k_quer + 0.01, 5.2), textcoords='data',\n",
    "            size=7,\n",
    "            arrowprops=dict(color='black', arrowstyle=\"-|>\", connectionstyle=\"angle, angleA=-150,angleB=90,rad=5\", linestyle='--', relpos=(0., 0.)),\n",
    "            bbox=dict(boxstyle=\"round\", fc=\"w\", ec=\"black\", linewidth=0.5),\n",
    "            rotation=60,\n",
    "            horizontalalignment='left', verticalalignment='bottom',\n",
    ")\n",
    "\n",
    "cit=24\n",
    "r_quer=2.5\n",
    "k_quer=0.1\n",
    "ax.annotate(r'({cit}): {perc}\\%'.format(cit=cit, perc=mapper(r_quer=r_quer, k_quer=k_quer, r=r, k=k, Z=Z)), xy=(k_quer, r_quer),  xycoords='data',\n",
    "            xytext=(k_quer, 5.2), textcoords='data',\n",
    "            size=7,\n",
    "            arrowprops=dict(color='black', arrowstyle=\"-|>\", connectionstyle=\"angle, angleA=-150,angleB=90,rad=5\", linestyle='--', relpos=(0., 0.)),\n",
    "            bbox=dict(boxstyle=\"round\", fc=\"w\", ec=\"black\", linewidth=0.5),\n",
    "            rotation=60,\n",
    "            horizontalalignment='left', verticalalignment='bottom',\n",
    "            )\n",
    "\n",
    "cit=25\n",
    "r_quer=3\n",
    "k_quer=0.5\n",
    "ax.annotate(r'({cit}): {perc}\\%'.format(cit=cit, perc=mapper(r_quer=r_quer, k_quer=k_quer, r=r, k=k, Z=Z)), xy=(k_quer, r_quer),  xycoords='data',\n",
    "            xytext=(k_quer + 0.01, 5.2), textcoords='data',\n",
    "            size=7,\n",
    "            arrowprops=dict(color='black', arrowstyle=\"-|>\", connectionstyle=\"angle, angleA=-150,angleB=90,rad=5\", linestyle='--', relpos=(0., 0.)),\n",
    "            bbox=dict(boxstyle=\"round\", fc=\"w\", ec=\"black\", linewidth=0.5),\n",
    "            rotation=60,\n",
    "            horizontalalignment='left', verticalalignment='bottom',\n",
    "            )\n",
    "\n",
    "cit=41\n",
    "r_quer=2.47\n",
    "k_quer=0.2\n",
    "ax.annotate(r'({cit}): {perc}\\%'.format(cit=cit, perc=mapper(r_quer=r_quer, k_quer=k_quer, r=r, k=k, Z=Z)), xy=(k_quer, r_quer),  xycoords='data',\n",
    "            xytext=(k_quer + 0.01, 5.2), textcoords='data',\n",
    "            size=7,\n",
    "            arrowprops=dict(color='black', arrowstyle=\"-|>\", connectionstyle=\"angle, angleA=-150,angleB=90,rad=5\", linestyle='--', relpos=(0., 0.)),\n",
    "            bbox=dict(boxstyle=\"round\", fc=\"w\", ec=\"black\", linewidth=0.5),\n",
    "            rotation=60,\n",
    "            horizontalalignment='left', verticalalignment='bottom',\n",
    "            )\n",
    "\n",
    "cit=42\n",
    "r_quer=0.61\n",
    "k_quer=0.11\n",
    "ax.annotate(r'({cit}): {perc}\\%'.format(cit=cit, perc=mapper(r_quer=r_quer, k_quer=k_quer, r=r, k=k, Z=Z)), xy=(k_quer, r_quer),  xycoords='data',\n",
    "            xytext=(0.15, 5.2), textcoords='data',\n",
    "            size=7,\n",
    "            arrowprops=dict(color='black', arrowstyle=\"-|>\", connectionstyle=\"angle, angleA=-90,angleB=0,rad=5\", linestyle='--', relpos=(0., 0.)),\n",
    "            bbox=dict(boxstyle=\"round\", fc=\"w\", ec=\"black\", linewidth=0.5),\n",
    "            rotation=60,\n",
    "            horizontalalignment='left', verticalalignment='bottom',\n",
    "            )\n",
    "\n",
    "cit=43\n",
    "r_quer=0.67\n",
    "k_quer=0.25\n",
    "ax.annotate(r'({cit}): {perc}\\%'.format(cit=cit, perc=mapper(r_quer=r_quer, k_quer=k_quer, r=r, k=k, Z=Z)), xy=(k_quer, r_quer),  xycoords='data',\n",
    "            xytext=(k_quer + 0.01, 5.2), textcoords='data',\n",
    "            size=7,\n",
    "            arrowprops=dict(color='black', arrowstyle=\"-|>\", connectionstyle=\"angle, angleA=-150,angleB=90,rad=5\", linestyle='--', relpos=(0., 0.)),\n",
    "            bbox=dict(boxstyle=\"round\", fc=\"w\", ec=\"black\", linewidth=0.5),\n",
    "            rotation=60,\n",
    "            horizontalalignment='left', verticalalignment='bottom',\n",
    "            )\n",
    "\n",
    "cit=44\n",
    "r_quer=0.4\n",
    "k_quer=0.3\n",
    "ax.annotate(r'({cit}): {perc}\\%'.format(cit=cit, perc=mapper(r_quer=r_quer, k_quer=k_quer, r=r, k=k, Z=Z)), xy=(k_quer, r_quer),  xycoords='data',\n",
    "            xytext=(0.41, 5.2), textcoords='data',\n",
    "            size=7,\n",
    "            arrowprops=dict(color='black', arrowstyle=\"-|>\", connectionstyle=\"angle, angleA=-90,angleB=0,rad=5\", linestyle='--', relpos=(0., 0.)),\n",
    "            bbox=dict(boxstyle=\"round\", fc=\"w\", ec=\"black\", linewidth=0.5),\n",
    "            rotation=60,\n",
    "            horizontalalignment='left', verticalalignment='bottom',\n",
    "            )\n",
    "\n",
    "ax.set_yticks([1,2,3,4,5])\n",
    "ax.set_ylabel(r'Reproductive number $r$')\n",
    "ax.set_xlabel(r'Dispersion parameter $k$')\n",
    "\n",
    "# ax.text(x=0.01, y=1, s=r'\\textbf{A}', size=15, transform = ax.transAxes, horizontalalignment='center', verticalalignment='bottom')\n",
    "# ax.text(x=0.01, y=1, s=r'\\textbf{B}', size=15, transform = ax.transAxes, horizontalalignment='center', verticalalignment='bottom')\n",
    "ax.text(x=0.01, y=1, s=r'\\textbf{C}', size=15, transform = ax.transAxes, horizontalalignment='center', verticalalignment='bottom')\n",
    "\n",
    "fig.tight_layout()\n",
    "# fig.savefig('figures/sci-adv-fig2.pdf')\n",
    "# fig.savefig('figures/sci-adv-figs3a.pdf')\n",
    "# fig.savefig('figures/sci-adv-figs3b.pdf')\n",
    "# fig.savefig('figures/sci-adv-figs4a.pdf')\n",
    "# fig.savefig('figures/sci-adv-figs4b.pdf')\n",
    "# fig.savefig('figures/sci-adv-figs4c.pdf')\n",
    "# fig.savefig('figures/sci-adv-figs5a.pdf')\n",
    "# fig.savefig('figures/sci-adv-figs5b.pdf')\n",
    "fig.savefig('figures/sci-adv-figs5c.pdf')"
   ],
   "outputs": [
    {
     "output_type": "stream",
     "name": "stderr",
     "text": [
      "/Users/stratis/Documents/code/group-testing/env/lib/python3.9/site-packages/matplotlib/patches.py:2652: RuntimeWarning: divide by zero encountered in double_scalars\n",
      "  f1 = self.rad / d1\n",
      "/Users/stratis/Documents/code/group-testing/env/lib/python3.9/site-packages/matplotlib/patches.py:2656: RuntimeWarning: invalid value encountered in double_scalars\n",
      "  vertices.extend([(cx + dx1 * f1, cy + dy1 * f1),\n"
     ]
    },
    {
     "output_type": "display_data",
     "data": {
      "image/png": "[encoded data removed]",
      "text/plain": [
       "<Figure size 373.798x231.02 with 2 Axes>"
      ]
     },
     "metadata": {}
    }
   ],
   "metadata": {}
  },
  {
   "cell_type": "code",
   "execution_count": null,
   "source": [],
   "outputs": [],
   "metadata": {}
  }
 ],
 "metadata": {
  "kernelspec": {
   "name": "python3",
   "display_name": "Python 3.9.1 64-bit ('env')"
  },
  "language_info": {
   "codemirror_mode": {
    "name": "ipython",
    "version": 3
   },
   "file_extension": ".py",
   "mimetype": "text/x-python",
   "name": "python",
   "nbconvert_exporter": "python",
   "pygments_lexer": "ipython3",
   "version": "3.9.1"
  },
  "metadata": {
   "interpreter": {
    "hash": "c425b3d18afb7ef01beae38734bbc4c3f66a0926b3e7f0a803887fb6dc8ff96a"
   }
  },
  "orig_nbformat": 2,
  "interpreter": {
   "hash": "e312f55c3c97e43ef328a86651ae8cf61ffd8a19c7888f1a2843b6f17cf5ecdd"
  }
 },
 "nbformat": 4,
 "nbformat_minor": 2
}
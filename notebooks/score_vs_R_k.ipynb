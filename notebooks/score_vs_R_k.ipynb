{
 "cells": [
  {
   "cell_type": "markdown",
   "metadata": {},
   "source": [
    "# Score vs N\n",
    "\n",
    "In this notebook we plot the score, # of tests, # of FPs and # of FNs for several values of N. "
   ]
  },
  {
   "cell_type": "code",
   "execution_count": 1,
   "metadata": {},
   "outputs": [],
   "source": [
    "import os\n",
    "os.chdir(\"../\")"
   ]
  },
  {
   "cell_type": "code",
   "execution_count": 2,
   "metadata": {},
   "outputs": [],
   "source": [
    "import pandas as pd\n",
    "import numpy as np\n",
    "import matplotlib.pyplot as plt\n",
    "import matplotlib as mpl\n",
    "import seaborn as sns\n",
    "import glob\n",
    "import json\n",
    "from src import utils\n",
    "from src.utils import get_fig_dim\n",
    "from IPython.display import clear_output\n",
    "sns.set_theme(context='paper', style='dark', font_scale=1)"
   ]
  },
  {
   "cell_type": "code",
   "execution_count": 3,
   "metadata": {},
   "outputs": [],
   "source": [
    "name=\"score_vs_R_k\"\n",
    "width_pt = 469\n",
    "golden = (1 + 5 ** 0.5) / 2\n",
    "font_scale = 3.5\n",
    "fig_height = 7\n",
    "type_dict = {\n",
    "    'false_negatives' : int,\n",
    "    'false_positives' : int,\n",
    "    'k' : float,\n",
    "    'lambda_1' : float,\n",
    "    'lambda_2' : float,\n",
    "    'method' : str,\n",
    "    'avg_group_size' : float,\n",
    "    'num_of_infected' : int,\n",
    "    'num_of_tests' : int,\n",
    "    'r' : float,\n",
    "    'N' : int,\n",
    "    'score' : float,\n",
    "    'se' : float,\n",
    "    'sp' : float,\n",
    "    'seed' : int\n",
    "}"
   ]
  },
  {
   "cell_type": "code",
   "execution_count": 4,
   "metadata": {
    "tags": []
   },
   "outputs": [
    {
     "name": "stdout",
     "output_type": "stream",
     "text": [
      "Reading file 400/400\n"
     ]
    }
   ],
   "source": [
    "files = glob.glob(\"./outputs/{name}_*.json\".format(name=name))\n",
    "\n",
    "dicts = []\n",
    "for fl_id, fl in enumerate(files):\n",
    "    clear_output(wait=True)\n",
    "    print('Reading file ' + str(fl_id+1)+'/'+str(len(files)))\n",
    "    with open(fl,\"r\") as f:\n",
    "        js = json.load(f)\n",
    "        sizes = []\n",
    "        for group_id in js['groups']:\n",
    "            sizes.append(int(js['groups'][group_id]))\n",
    "\n",
    "        avg_group_size = np.mean(sizes)\n",
    "        \n",
    "        for seed in js['seeds']:\n",
    "            seed_js = js.copy()\n",
    "            seed_js.pop('seeds', None)\n",
    "            seed_js.pop('groups', None)    \n",
    "            seed_js = seed_js | js['seeds'][seed]\n",
    "            seed_js['seed']=seed\n",
    "            seed_js['avg_group_size'] = avg_group_size\n",
    "\n",
    "            dicts.append(seed_js)\n",
    "\n",
    "input_df = pd.DataFrame(dicts)"
   ]
  },
  {
   "cell_type": "code",
   "execution_count": 5,
   "metadata": {},
   "outputs": [],
   "source": [
    "total_df = input_df.astype(type_dict) # Fix types\n",
    "total_df = total_df.rename(columns={\"method\": \"Method\", \"score\": \"Score\"}) # Rename columns\n",
    "total_df = total_df.replace({'binomial': 'Dorfman', 'negbin': 'Algorithm 1'}) # Rename methods"
   ]
  },
  {
   "cell_type": "code",
   "execution_count": 6,
   "metadata": {},
   "outputs": [],
   "source": [
    "results = {}\n",
    "for N in [20, 100]:\n",
    "    results[N] = total_df[(total_df['N']==N) & (total_df['lambda_1']==0.0) & (total_df['lambda_2']==0.0) & (total_df['k']<=1.0)]\n",
    "    results[N] = results[N].pivot(index=['lambda_1', 'lambda_2', 'se', 'sp', 'r', 'k', 'seed', 'N'], columns='Method', values='Score').reset_index()\n",
    "    results[N]['Percentage'] = (results[N]['Dorfman'] - results[N]['Algorithm 1'])/results[N]['Dorfman']\n",
    "    results[N] = results[N][['r','k','Percentage']]\n",
    "    results[N] = results[N].groupby(['r', 'k']).mean().reset_index()\n",
    "    results[N] = results[N].pivot('r', 'k', 'Percentage')"
   ]
  },
  {
   "cell_type": "code",
   "execution_count": 11,
   "metadata": {},
   "outputs": [
    {
     "data": {
      "image/png": "[encoded data removed]",
      "text/plain": [
       "<Figure size 280.349x173.265 with 2 Axes>"
      ]
     },
     "metadata": {},
     "output_type": "display_data"
    }
   ],
   "source": [
    "utils.latexify(font_size=10)\n",
    "\n",
    "Z = results[20].to_numpy()\n",
    "k = results[20].columns.to_numpy()\n",
    "r = results[20].index.to_numpy()\n",
    "X, Y = np.meshgrid(k, r)\n",
    "\n",
    "nbins=10\n",
    "levels=mpl.ticker.MaxNLocator(nbins=nbins).tick_values(Z.min(),Z.max())\n",
    "\n",
    "fig_height, fig_aspect = get_fig_dim(width_pt, fraction=0.6)\n",
    "fig, ax = plt.subplots(figsize=(fig_height*fig_aspect, fig_height))\n",
    "\n",
    "# ax.contour(X,Y,Z,levels=levels, colors='black', linestyles='solid')\n",
    "cs = ax.contourf(X,Y,Z,levels=levels, cmap=sns.color_palette(\"crest\", as_cmap=True))\n",
    "fig.colorbar(cs)\n",
    "\n",
    "ax.set_ylabel(r'Reproductive number $r$')\n",
    "ax.set_xlabel(r'Dispersion parameter $k$')\n",
    "\n",
    "fig.tight_layout()\n",
    "fig.savefig('figures/{name}_N_20.pdf'.format(name=name))"
   ]
  },
  {
   "cell_type": "code",
   "execution_count": 13,
   "metadata": {},
   "outputs": [
    {
     "data": {
      "image/png": "[encoded data removed]",
      "text/plain": [
       "<Figure size 280.349x173.265 with 2 Axes>"
      ]
     },
     "metadata": {},
     "output_type": "display_data"
    }
   ],
   "source": [
    "utils.latexify(font_size=10)\n",
    "\n",
    "Z = results[100].to_numpy()\n",
    "k = results[100].columns.to_numpy()\n",
    "r = results[100].index.to_numpy()\n",
    "X, Y = np.meshgrid(k, r)\n",
    "\n",
    "nbins=10\n",
    "levels=mpl.ticker.MaxNLocator(nbins=nbins).tick_values(Z.min(),Z.max())\n",
    "\n",
    "fig_height, fig_aspect = get_fig_dim(width_pt, fraction=0.6)\n",
    "fig, ax = plt.subplots(figsize=(fig_height*fig_aspect, fig_height))\n",
    "\n",
    "cs = ax.contourf(X,Y,Z,levels=levels, cmap=sns.color_palette(\"crest\", as_cmap=True), linestyles='solid')\n",
    "fig.colorbar(cs, ticks=[0.0, 0.08, 0.16, 0.24, 0.32])\n",
    "\n",
    "ax.set_ylabel(r'Reproductive number $r$')\n",
    "ax.set_xlabel(r'Dispersion parameter $k$')\n",
    "\n",
    "fig.tight_layout()\n",
    "fig.savefig('figures/{name}_N_100.pdf'.format(name=name))"
   ]
  },
  {
   "cell_type": "code",
   "execution_count": 14,
   "metadata": {},
   "outputs": [],
   "source": [
    "# utils.latexify(font_size=10, font_family='serif', font_name='Computer Modern')\n",
    "\n",
    "# fig_height, fig_aspect = get_fig_dim(width_pt, fraction=1)\n",
    "# fig, ax = plt.subplots(figsize=(fig_height*fig_aspect, fig_height))\n",
    "\n",
    "# sns.heatmap(data=results[20], cmap='flare', square=True, ax=ax)\n",
    "\n",
    "# k_ticks = ['0.1', '0.2', '0.3', '0.4', '0.5', '1.0', '$10$', '$10^2$', '$10^3$', '$10^4$']\n",
    "# ax.set_xticklabels(k_ticks)\n",
    "# for label in ax.get_xmajorticklabels():\n",
    "#     label.set_rotation(30)\n",
    "#     label.set_horizontalalignment(\"center\")\n",
    "\n",
    "# fig.tight_layout()\n",
    "# fig.savefig('figures/{name}_N_20.pdf'.format(name=name))"
   ]
  },
  {
   "cell_type": "code",
   "execution_count": 15,
   "metadata": {},
   "outputs": [],
   "source": [
    "# utils.latexify(font_size=10, font_family='serif', font_name='Computer Modern')\n",
    "\n",
    "# fig_height, fig_aspect = get_fig_dim(width_pt, fraction=1)\n",
    "# fig, ax = plt.subplots(figsize=(fig_height*fig_aspect, fig_height))\n",
    "\n",
    "# sns.heatmap(data=results[100], cmap='flare', square=True, ax=ax)\n",
    "\n",
    "# k_ticks = ['0.1', '0.2', '0.3', '0.4', '0.5', '1.0', '$10$', '$10^2$', '$10^3$', '$10^4$']\n",
    "# ax.set_xticklabels(k_ticks)\n",
    "# for label in ax.get_xmajorticklabels():\n",
    "#     label.set_rotation(30)\n",
    "#     label.set_horizontalalignment(\"center\")\n",
    "\n",
    "# fig.tight_layout()\n",
    "# fig.savefig('figures/{name}_N_100.pdf'.format(name=name))"
   ]
  },
  {
   "cell_type": "code",
   "execution_count": null,
   "metadata": {},
   "outputs": [],
   "source": []
  }
 ],
 "metadata": {
  "kernelspec": {
   "display_name": "Python 3.9.1 64-bit ('env': venv)",
   "language": "python",
   "name": "python391jvsc74a57bd0aa4d90a6ddf34055b4d663caf538a304b130a52dccbb19e6af7dab2cae6a7288"
  },
  "language_info": {
   "codemirror_mode": {
    "name": "ipython",
    "version": 3
   },
   "file_extension": ".py",
   "mimetype": "text/x-python",
   "name": "python",
   "nbconvert_exporter": "python",
   "pygments_lexer": "ipython3",
   "version": "3.9.1"
  },
  "metadata": {
   "interpreter": {
    "hash": "c425b3d18afb7ef01beae38734bbc4c3f66a0926b3e7f0a803887fb6dc8ff96a"
   }
  },
  "orig_nbformat": 2
 },
 "nbformat": 4,
 "nbformat_minor": 2
}